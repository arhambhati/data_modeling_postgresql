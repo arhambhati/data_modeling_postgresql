{
 "cells": [
  {
   "cell_type": "code",
   "execution_count": 61,
   "metadata": {},
   "outputs": [],
   "source": [
    "#Importing the necessary Libraries\n",
    "import os\n",
    "import glob\n",
    "import psycopg2\n",
    "import pandas as pd\n",
    "from sql_queries import *\n",
    "import numpy as np"
   ]
  },
  {
   "cell_type": "code",
   "execution_count": 62,
   "metadata": {},
   "outputs": [],
   "source": [
    "#as we have data in directries which has further sub-directories in the json format we have read them all in the same format\n",
    "def get_data_files(filepath):\n",
    "    all_files= []\n",
    "    for root, dirs, files in os.walk(filepath):\n",
    "        files = glob.glob(os.path.join(root,'*.json'))\n",
    "        for f in files:\n",
    "            all_files.append(os.path.abspath(f))\n",
    "        \n",
    "    return all_files\n",
    "    \n",
    "    "
   ]
  },
  {
   "cell_type": "markdown",
   "metadata": {},
   "source": [
    "Processing song data"
   ]
  },
  {
   "cell_type": "code",
   "execution_count": 76,
   "metadata": {},
   "outputs": [
    {
     "data": {
      "text/plain": [
       "['c:\\\\Users\\\\Muhammad Arham\\\\Desktop\\\\DataEng_Proj\\\\Data Modeling\\\\Modeling_Postgresql\\\\data\\\\song_data\\\\A\\\\A\\\\A\\\\TRAAAAW128F429D538.json',\n",
       " 'c:\\\\Users\\\\Muhammad Arham\\\\Desktop\\\\DataEng_Proj\\\\Data Modeling\\\\Modeling_Postgresql\\\\data\\\\song_data\\\\A\\\\A\\\\A\\\\TRAAABD128F429CF47.json',\n",
       " 'c:\\\\Users\\\\Muhammad Arham\\\\Desktop\\\\DataEng_Proj\\\\Data Modeling\\\\Modeling_Postgresql\\\\data\\\\song_data\\\\A\\\\A\\\\A\\\\TRAAADZ128F9348C2E.json',\n",
       " 'c:\\\\Users\\\\Muhammad Arham\\\\Desktop\\\\DataEng_Proj\\\\Data Modeling\\\\Modeling_Postgresql\\\\data\\\\song_data\\\\A\\\\A\\\\A\\\\TRAAAEF128F4273421.json',\n",
       " 'c:\\\\Users\\\\Muhammad Arham\\\\Desktop\\\\DataEng_Proj\\\\Data Modeling\\\\Modeling_Postgresql\\\\data\\\\song_data\\\\A\\\\A\\\\A\\\\TRAAAFD128F92F423A.json',\n",
       " 'c:\\\\Users\\\\Muhammad Arham\\\\Desktop\\\\DataEng_Proj\\\\Data Modeling\\\\Modeling_Postgresql\\\\data\\\\song_data\\\\A\\\\A\\\\A\\\\TRAAAMO128F1481E7F.json',\n",
       " 'c:\\\\Users\\\\Muhammad Arham\\\\Desktop\\\\DataEng_Proj\\\\Data Modeling\\\\Modeling_Postgresql\\\\data\\\\song_data\\\\A\\\\A\\\\A\\\\TRAAAMQ128F1460CD3.json',\n",
       " 'c:\\\\Users\\\\Muhammad Arham\\\\Desktop\\\\DataEng_Proj\\\\Data Modeling\\\\Modeling_Postgresql\\\\data\\\\song_data\\\\A\\\\A\\\\A\\\\TRAAAPK128E0786D96.json',\n",
       " 'c:\\\\Users\\\\Muhammad Arham\\\\Desktop\\\\DataEng_Proj\\\\Data Modeling\\\\Modeling_Postgresql\\\\data\\\\song_data\\\\A\\\\A\\\\A\\\\TRAAARJ128F9320760.json',\n",
       " 'c:\\\\Users\\\\Muhammad Arham\\\\Desktop\\\\DataEng_Proj\\\\Data Modeling\\\\Modeling_Postgresql\\\\data\\\\song_data\\\\A\\\\A\\\\A\\\\TRAAAVG12903CFA543.json',\n",
       " 'c:\\\\Users\\\\Muhammad Arham\\\\Desktop\\\\DataEng_Proj\\\\Data Modeling\\\\Modeling_Postgresql\\\\data\\\\song_data\\\\A\\\\A\\\\B\\\\TRAABCL128F4286650.json',\n",
       " 'c:\\\\Users\\\\Muhammad Arham\\\\Desktop\\\\DataEng_Proj\\\\Data Modeling\\\\Modeling_Postgresql\\\\data\\\\song_data\\\\A\\\\A\\\\B\\\\TRAABDL12903CAABBA.json',\n",
       " 'c:\\\\Users\\\\Muhammad Arham\\\\Desktop\\\\DataEng_Proj\\\\Data Modeling\\\\Modeling_Postgresql\\\\data\\\\song_data\\\\A\\\\A\\\\B\\\\TRAABJL12903CDCF1A.json',\n",
       " 'c:\\\\Users\\\\Muhammad Arham\\\\Desktop\\\\DataEng_Proj\\\\Data Modeling\\\\Modeling_Postgresql\\\\data\\\\song_data\\\\A\\\\A\\\\B\\\\TRAABJV128F1460C49.json',\n",
       " 'c:\\\\Users\\\\Muhammad Arham\\\\Desktop\\\\DataEng_Proj\\\\Data Modeling\\\\Modeling_Postgresql\\\\data\\\\song_data\\\\A\\\\A\\\\B\\\\TRAABLR128F423B7E3.json',\n",
       " 'c:\\\\Users\\\\Muhammad Arham\\\\Desktop\\\\DataEng_Proj\\\\Data Modeling\\\\Modeling_Postgresql\\\\data\\\\song_data\\\\A\\\\A\\\\B\\\\TRAABNV128F425CEE1.json',\n",
       " 'c:\\\\Users\\\\Muhammad Arham\\\\Desktop\\\\DataEng_Proj\\\\Data Modeling\\\\Modeling_Postgresql\\\\data\\\\song_data\\\\A\\\\A\\\\B\\\\TRAABRB128F9306DD5.json',\n",
       " 'c:\\\\Users\\\\Muhammad Arham\\\\Desktop\\\\DataEng_Proj\\\\Data Modeling\\\\Modeling_Postgresql\\\\data\\\\song_data\\\\A\\\\A\\\\B\\\\TRAABVM128F92CA9DC.json',\n",
       " 'c:\\\\Users\\\\Muhammad Arham\\\\Desktop\\\\DataEng_Proj\\\\Data Modeling\\\\Modeling_Postgresql\\\\data\\\\song_data\\\\A\\\\A\\\\B\\\\TRAABXG128F9318EBD.json',\n",
       " 'c:\\\\Users\\\\Muhammad Arham\\\\Desktop\\\\DataEng_Proj\\\\Data Modeling\\\\Modeling_Postgresql\\\\data\\\\song_data\\\\A\\\\A\\\\B\\\\TRAABYN12903CFD305.json',\n",
       " 'c:\\\\Users\\\\Muhammad Arham\\\\Desktop\\\\DataEng_Proj\\\\Data Modeling\\\\Modeling_Postgresql\\\\data\\\\song_data\\\\A\\\\A\\\\C\\\\TRAACCG128F92E8A55.json',\n",
       " 'c:\\\\Users\\\\Muhammad Arham\\\\Desktop\\\\DataEng_Proj\\\\Data Modeling\\\\Modeling_Postgresql\\\\data\\\\song_data\\\\A\\\\A\\\\C\\\\TRAACER128F4290F96.json',\n",
       " 'c:\\\\Users\\\\Muhammad Arham\\\\Desktop\\\\DataEng_Proj\\\\Data Modeling\\\\Modeling_Postgresql\\\\data\\\\song_data\\\\A\\\\A\\\\C\\\\TRAACFV128F935E50B.json',\n",
       " 'c:\\\\Users\\\\Muhammad Arham\\\\Desktop\\\\DataEng_Proj\\\\Data Modeling\\\\Modeling_Postgresql\\\\data\\\\song_data\\\\A\\\\A\\\\C\\\\TRAACHN128F1489601.json',\n",
       " 'c:\\\\Users\\\\Muhammad Arham\\\\Desktop\\\\DataEng_Proj\\\\Data Modeling\\\\Modeling_Postgresql\\\\data\\\\song_data\\\\A\\\\A\\\\C\\\\TRAACIW12903CC0F6D.json',\n",
       " 'c:\\\\Users\\\\Muhammad Arham\\\\Desktop\\\\DataEng_Proj\\\\Data Modeling\\\\Modeling_Postgresql\\\\data\\\\song_data\\\\A\\\\A\\\\C\\\\TRAACLV128F427E123.json',\n",
       " 'c:\\\\Users\\\\Muhammad Arham\\\\Desktop\\\\DataEng_Proj\\\\Data Modeling\\\\Modeling_Postgresql\\\\data\\\\song_data\\\\A\\\\A\\\\C\\\\TRAACNS128F14A2DF5.json',\n",
       " 'c:\\\\Users\\\\Muhammad Arham\\\\Desktop\\\\DataEng_Proj\\\\Data Modeling\\\\Modeling_Postgresql\\\\data\\\\song_data\\\\A\\\\A\\\\C\\\\TRAACOW128F933E35F.json',\n",
       " 'c:\\\\Users\\\\Muhammad Arham\\\\Desktop\\\\DataEng_Proj\\\\Data Modeling\\\\Modeling_Postgresql\\\\data\\\\song_data\\\\A\\\\A\\\\C\\\\TRAACPE128F421C1B9.json',\n",
       " 'c:\\\\Users\\\\Muhammad Arham\\\\Desktop\\\\DataEng_Proj\\\\Data Modeling\\\\Modeling_Postgresql\\\\data\\\\song_data\\\\A\\\\A\\\\C\\\\TRAACQT128F9331780.json',\n",
       " 'c:\\\\Users\\\\Muhammad Arham\\\\Desktop\\\\DataEng_Proj\\\\Data Modeling\\\\Modeling_Postgresql\\\\data\\\\song_data\\\\A\\\\B\\\\A\\\\TRABACN128F425B784.json',\n",
       " 'c:\\\\Users\\\\Muhammad Arham\\\\Desktop\\\\DataEng_Proj\\\\Data Modeling\\\\Modeling_Postgresql\\\\data\\\\song_data\\\\A\\\\B\\\\A\\\\TRABAFJ128F42AF24E.json',\n",
       " 'c:\\\\Users\\\\Muhammad Arham\\\\Desktop\\\\DataEng_Proj\\\\Data Modeling\\\\Modeling_Postgresql\\\\data\\\\song_data\\\\A\\\\B\\\\A\\\\TRABAFP128F931E9A1.json',\n",
       " 'c:\\\\Users\\\\Muhammad Arham\\\\Desktop\\\\DataEng_Proj\\\\Data Modeling\\\\Modeling_Postgresql\\\\data\\\\song_data\\\\A\\\\B\\\\A\\\\TRABAIO128F42938F9.json',\n",
       " 'c:\\\\Users\\\\Muhammad Arham\\\\Desktop\\\\DataEng_Proj\\\\Data Modeling\\\\Modeling_Postgresql\\\\data\\\\song_data\\\\A\\\\B\\\\A\\\\TRABATO128F42627E9.json',\n",
       " 'c:\\\\Users\\\\Muhammad Arham\\\\Desktop\\\\DataEng_Proj\\\\Data Modeling\\\\Modeling_Postgresql\\\\data\\\\song_data\\\\A\\\\B\\\\A\\\\TRABAVQ12903CBF7E0.json',\n",
       " 'c:\\\\Users\\\\Muhammad Arham\\\\Desktop\\\\DataEng_Proj\\\\Data Modeling\\\\Modeling_Postgresql\\\\data\\\\song_data\\\\A\\\\B\\\\A\\\\TRABAWW128F4250A31.json',\n",
       " 'c:\\\\Users\\\\Muhammad Arham\\\\Desktop\\\\DataEng_Proj\\\\Data Modeling\\\\Modeling_Postgresql\\\\data\\\\song_data\\\\A\\\\B\\\\A\\\\TRABAXL128F424FC50.json',\n",
       " 'c:\\\\Users\\\\Muhammad Arham\\\\Desktop\\\\DataEng_Proj\\\\Data Modeling\\\\Modeling_Postgresql\\\\data\\\\song_data\\\\A\\\\B\\\\A\\\\TRABAXR128F426515F.json',\n",
       " 'c:\\\\Users\\\\Muhammad Arham\\\\Desktop\\\\DataEng_Proj\\\\Data Modeling\\\\Modeling_Postgresql\\\\data\\\\song_data\\\\A\\\\B\\\\A\\\\TRABAXV128F92F6AE3.json',\n",
       " 'c:\\\\Users\\\\Muhammad Arham\\\\Desktop\\\\DataEng_Proj\\\\Data Modeling\\\\Modeling_Postgresql\\\\data\\\\song_data\\\\A\\\\B\\\\B\\\\TRABBAM128F429D223.json',\n",
       " 'c:\\\\Users\\\\Muhammad Arham\\\\Desktop\\\\DataEng_Proj\\\\Data Modeling\\\\Modeling_Postgresql\\\\data\\\\song_data\\\\A\\\\B\\\\B\\\\TRABBBV128F42967D7.json',\n",
       " 'c:\\\\Users\\\\Muhammad Arham\\\\Desktop\\\\DataEng_Proj\\\\Data Modeling\\\\Modeling_Postgresql\\\\data\\\\song_data\\\\A\\\\B\\\\B\\\\TRABBJE12903CDB442.json',\n",
       " 'c:\\\\Users\\\\Muhammad Arham\\\\Desktop\\\\DataEng_Proj\\\\Data Modeling\\\\Modeling_Postgresql\\\\data\\\\song_data\\\\A\\\\B\\\\B\\\\TRABBKX128F4285205.json',\n",
       " 'c:\\\\Users\\\\Muhammad Arham\\\\Desktop\\\\DataEng_Proj\\\\Data Modeling\\\\Modeling_Postgresql\\\\data\\\\song_data\\\\A\\\\B\\\\B\\\\TRABBLU128F93349CF.json',\n",
       " 'c:\\\\Users\\\\Muhammad Arham\\\\Desktop\\\\DataEng_Proj\\\\Data Modeling\\\\Modeling_Postgresql\\\\data\\\\song_data\\\\A\\\\B\\\\B\\\\TRABBNP128F932546F.json',\n",
       " 'c:\\\\Users\\\\Muhammad Arham\\\\Desktop\\\\DataEng_Proj\\\\Data Modeling\\\\Modeling_Postgresql\\\\data\\\\song_data\\\\A\\\\B\\\\B\\\\TRABBOP128F931B50D.json',\n",
       " 'c:\\\\Users\\\\Muhammad Arham\\\\Desktop\\\\DataEng_Proj\\\\Data Modeling\\\\Modeling_Postgresql\\\\data\\\\song_data\\\\A\\\\B\\\\B\\\\TRABBOR128F4286200.json',\n",
       " 'c:\\\\Users\\\\Muhammad Arham\\\\Desktop\\\\DataEng_Proj\\\\Data Modeling\\\\Modeling_Postgresql\\\\data\\\\song_data\\\\A\\\\B\\\\B\\\\TRABBTA128F933D304.json',\n",
       " 'c:\\\\Users\\\\Muhammad Arham\\\\Desktop\\\\DataEng_Proj\\\\Data Modeling\\\\Modeling_Postgresql\\\\data\\\\song_data\\\\A\\\\B\\\\B\\\\TRABBVJ128F92F7EAA.json',\n",
       " 'c:\\\\Users\\\\Muhammad Arham\\\\Desktop\\\\DataEng_Proj\\\\Data Modeling\\\\Modeling_Postgresql\\\\data\\\\song_data\\\\A\\\\B\\\\C\\\\TRABCAJ12903CDFCC2.json',\n",
       " 'c:\\\\Users\\\\Muhammad Arham\\\\Desktop\\\\DataEng_Proj\\\\Data Modeling\\\\Modeling_Postgresql\\\\data\\\\song_data\\\\A\\\\B\\\\C\\\\TRABCEC128F426456E.json',\n",
       " 'c:\\\\Users\\\\Muhammad Arham\\\\Desktop\\\\DataEng_Proj\\\\Data Modeling\\\\Modeling_Postgresql\\\\data\\\\song_data\\\\A\\\\B\\\\C\\\\TRABCEI128F424C983.json',\n",
       " 'c:\\\\Users\\\\Muhammad Arham\\\\Desktop\\\\DataEng_Proj\\\\Data Modeling\\\\Modeling_Postgresql\\\\data\\\\song_data\\\\A\\\\B\\\\C\\\\TRABCFL128F149BB0D.json',\n",
       " 'c:\\\\Users\\\\Muhammad Arham\\\\Desktop\\\\DataEng_Proj\\\\Data Modeling\\\\Modeling_Postgresql\\\\data\\\\song_data\\\\A\\\\B\\\\C\\\\TRABCIX128F4265903.json',\n",
       " 'c:\\\\Users\\\\Muhammad Arham\\\\Desktop\\\\DataEng_Proj\\\\Data Modeling\\\\Modeling_Postgresql\\\\data\\\\song_data\\\\A\\\\B\\\\C\\\\TRABCKL128F423A778.json',\n",
       " 'c:\\\\Users\\\\Muhammad Arham\\\\Desktop\\\\DataEng_Proj\\\\Data Modeling\\\\Modeling_Postgresql\\\\data\\\\song_data\\\\A\\\\B\\\\C\\\\TRABCPZ128F4275C32.json',\n",
       " 'c:\\\\Users\\\\Muhammad Arham\\\\Desktop\\\\DataEng_Proj\\\\Data Modeling\\\\Modeling_Postgresql\\\\data\\\\song_data\\\\A\\\\B\\\\C\\\\TRABCRU128F423F449.json',\n",
       " 'c:\\\\Users\\\\Muhammad Arham\\\\Desktop\\\\DataEng_Proj\\\\Data Modeling\\\\Modeling_Postgresql\\\\data\\\\song_data\\\\A\\\\B\\\\C\\\\TRABCTK128F934B224.json',\n",
       " 'c:\\\\Users\\\\Muhammad Arham\\\\Desktop\\\\DataEng_Proj\\\\Data Modeling\\\\Modeling_Postgresql\\\\data\\\\song_data\\\\A\\\\B\\\\C\\\\TRABCUQ128E0783E2B.json']"
      ]
     },
     "execution_count": 76,
     "metadata": {},
     "output_type": "execute_result"
    }
   ],
   "source": [
    "#all the songs data will stored in this \n",
    "song_files = get_data_files(\"data\\song_data\")\n",
    "song_files"
   ]
  },
  {
   "cell_type": "code",
   "execution_count": 91,
   "metadata": {},
   "outputs": [
    {
     "name": "stdout",
     "output_type": "stream",
     "text": [
      "File Path: c:\\Users\\Muhammad Arham\\Desktop\\DataEng_Proj\\Data Modeling\\Modeling_Postgresql\\data\\song_data\\A\\A\\A\\TRAAAAW128F429D538.json\n",
      "Data: {'num_songs': 1, 'artist_id': 'ARD7TVE1187B99BFB1', 'artist_latitude': None, 'artist_longitude': None, 'artist_location': 'California - LA', 'artist_name': 'Casual', 'song_id': 'SOMZWCG12A8C13C480', 'title': \"I Didn't Mean To\", 'duration': 218.93179, 'year': 0}\n",
      "\n",
      "File Path: c:\\Users\\Muhammad Arham\\Desktop\\DataEng_Proj\\Data Modeling\\Modeling_Postgresql\\data\\song_data\\A\\A\\A\\TRAAABD128F429CF47.json\n",
      "Data: {'num_songs': 1, 'artist_id': 'ARMJAGH1187FB546F3', 'artist_latitude': 35.14968, 'artist_longitude': -90.04892, 'artist_location': 'Memphis, TN', 'artist_name': 'The Box Tops', 'song_id': 'SOCIWDW12A8C13D406', 'title': 'Soul Deep', 'duration': 148.03546, 'year': 1969}\n",
      "\n",
      "File Path: c:\\Users\\Muhammad Arham\\Desktop\\DataEng_Proj\\Data Modeling\\Modeling_Postgresql\\data\\song_data\\A\\A\\A\\TRAAADZ128F9348C2E.json\n",
      "Data: {'num_songs': 1, 'artist_id': 'ARKRRTF1187B9984DA', 'artist_latitude': None, 'artist_longitude': None, 'artist_location': '', 'artist_name': 'Sonora Santanera', 'song_id': 'SOXVLOJ12AB0189215', 'title': 'Amor De Cabaret', 'duration': 177.47546, 'year': 0}\n",
      "\n",
      "File Path: c:\\Users\\Muhammad Arham\\Desktop\\DataEng_Proj\\Data Modeling\\Modeling_Postgresql\\data\\song_data\\A\\A\\A\\TRAAAEF128F4273421.json\n",
      "Data: {'num_songs': 1, 'artist_id': 'AR7G5I41187FB4CE6C', 'artist_latitude': None, 'artist_longitude': None, 'artist_location': 'London, England', 'artist_name': 'Adam Ant', 'song_id': 'SONHOTT12A8C13493C', 'title': 'Something Girls', 'duration': 233.40363, 'year': 1982}\n",
      "\n",
      "File Path: c:\\Users\\Muhammad Arham\\Desktop\\DataEng_Proj\\Data Modeling\\Modeling_Postgresql\\data\\song_data\\A\\A\\A\\TRAAAFD128F92F423A.json\n",
      "Data: {'num_songs': 1, 'artist_id': 'ARXR32B1187FB57099', 'artist_latitude': None, 'artist_longitude': None, 'artist_location': '', 'artist_name': 'Gob', 'song_id': 'SOFSOCN12A8C143F5D', 'title': 'Face the Ashes', 'duration': 209.60608, 'year': 2007}\n",
      "\n"
     ]
    }
   ],
   "source": [
    "import json\n",
    "\n",
    "\n",
    "for file_path in song_files[:5]:\n",
    "    print(\"File Path:\", file_path)\n",
    "    with open(file_path, 'r') as file:\n",
    "        data = json.load(file)\n",
    "        print(\"Data:\", data)\n",
    "    print()"
   ]
  },
  {
   "cell_type": "code",
   "execution_count": 100,
   "metadata": {},
   "outputs": [
    {
     "name": "stdout",
     "output_type": "stream",
     "text": [
      "   num_songs           artist_id  artist_latitude  artist_longitude  \\\n",
      "0          1  ARD7TVE1187B99BFB1              NaN               NaN   \n",
      "1          1  ARMJAGH1187FB546F3         35.14968         -90.04892   \n",
      "2          1  ARKRRTF1187B9984DA              NaN               NaN   \n",
      "3          1  AR7G5I41187FB4CE6C              NaN               NaN   \n",
      "4          1  ARXR32B1187FB57099              NaN               NaN   \n",
      "\n",
      "   artist_location       artist_name             song_id             title  \\\n",
      "0  California - LA            Casual  SOMZWCG12A8C13C480  I Didn't Mean To   \n",
      "1      Memphis, TN      The Box Tops  SOCIWDW12A8C13D406         Soul Deep   \n",
      "2                   Sonora Santanera  SOXVLOJ12AB0189215   Amor De Cabaret   \n",
      "3  London, England          Adam Ant  SONHOTT12A8C13493C   Something Girls   \n",
      "4                                Gob  SOFSOCN12A8C143F5D    Face the Ashes   \n",
      "\n",
      "    duration  year  \n",
      "0  218.93179     0  \n",
      "1  148.03546  1969  \n",
      "2  177.47546     0  \n",
      "3  233.40363  1982  \n",
      "4  209.60608  2007  \n"
     ]
    }
   ],
   "source": [
    "# Initialize an empty list to store DataFrames\n",
    "dfs= []\n",
    "\n",
    "# Iterate over each file path\n",
    "for filepath in song_files:\n",
    "    # Check if the file exists\n",
    "    if os.path.exists(filepath):\n",
    "        # Read the JSON file into a DataFrame\n",
    "        df = pd.read_json(filepath, dtype={'year': int}, lines=True)\n",
    "        # Append the DataFrame to the list\n",
    "        dfs.append(df)\n",
    "    else:\n",
    "        print(f\"File not found: {filepath}\")\n",
    "\n",
    "# Concatenate all DataFrames in the list into a single DataFrame\n",
    "df = pd.concat(dfs, ignore_index=True)\n",
    "\n",
    "# Display the first few records of the combined DataFrame\n",
    "print(df.head())"
   ]
  },
  {
   "cell_type": "code",
   "execution_count": 108,
   "metadata": {},
   "outputs": [
    {
     "data": {
      "text/html": [
       "<div>\n",
       "<style scoped>\n",
       "    .dataframe tbody tr th:only-of-type {\n",
       "        vertical-align: middle;\n",
       "    }\n",
       "\n",
       "    .dataframe tbody tr th {\n",
       "        vertical-align: top;\n",
       "    }\n",
       "\n",
       "    .dataframe thead th {\n",
       "        text-align: right;\n",
       "    }\n",
       "</style>\n",
       "<table border=\"1\" class=\"dataframe\">\n",
       "  <thead>\n",
       "    <tr style=\"text-align: right;\">\n",
       "      <th></th>\n",
       "      <th>song_id</th>\n",
       "      <th>title</th>\n",
       "      <th>year</th>\n",
       "      <th>duration</th>\n",
       "      <th>artist_id</th>\n",
       "    </tr>\n",
       "  </thead>\n",
       "  <tbody>\n",
       "    <tr>\n",
       "      <th>0</th>\n",
       "      <td>SOMZWCG12A8C13C480</td>\n",
       "      <td>I Didn't Mean To</td>\n",
       "      <td>0</td>\n",
       "      <td>218.93179</td>\n",
       "      <td>ARD7TVE1187B99BFB1</td>\n",
       "    </tr>\n",
       "    <tr>\n",
       "      <th>1</th>\n",
       "      <td>SOCIWDW12A8C13D406</td>\n",
       "      <td>Soul Deep</td>\n",
       "      <td>1969</td>\n",
       "      <td>148.03546</td>\n",
       "      <td>ARMJAGH1187FB546F3</td>\n",
       "    </tr>\n",
       "    <tr>\n",
       "      <th>2</th>\n",
       "      <td>SOXVLOJ12AB0189215</td>\n",
       "      <td>Amor De Cabaret</td>\n",
       "      <td>0</td>\n",
       "      <td>177.47546</td>\n",
       "      <td>ARKRRTF1187B9984DA</td>\n",
       "    </tr>\n",
       "  </tbody>\n",
       "</table>\n",
       "</div>"
      ],
      "text/plain": [
       "              song_id             title  year   duration           artist_id\n",
       "0  SOMZWCG12A8C13C480  I Didn't Mean To     0  218.93179  ARD7TVE1187B99BFB1\n",
       "1  SOCIWDW12A8C13D406         Soul Deep  1969  148.03546  ARMJAGH1187FB546F3\n",
       "2  SOXVLOJ12AB0189215   Amor De Cabaret     0  177.47546  ARKRRTF1187B9984DA"
      ]
     },
     "execution_count": 108,
     "metadata": {},
     "output_type": "execute_result"
    }
   ],
   "source": [
    "#lets separate the attributes for the \"songs\" table\n",
    "\n",
    "song_data = df[['song_id','title','year','duration', 'artist_id']]\n",
    "song_data.head(3)"
   ]
  },
  {
   "cell_type": "code",
   "execution_count": 119,
   "metadata": {},
   "outputs": [
    {
     "data": {
      "text/plain": [
       "[['ARD7TVE1187B99BFB1', nan, nan, 'California - LA', 'Casual'],\n",
       " ['ARMJAGH1187FB546F3', 35.14968, -90.04892, 'Memphis, TN', 'The Box Tops']]"
      ]
     },
     "execution_count": 119,
     "metadata": {},
     "output_type": "execute_result"
    }
   ],
   "source": [
    "#lets separate the attributes for the \"artist\" table\n",
    "artist_data = df[['artist_id','artist_latitude','artist_longitude','artist_location', 'artist_name']].values.tolist()\n",
    "artist_data[:2]"
   ]
  },
  {
   "cell_type": "markdown",
   "metadata": {},
   "source": [
    "Processing Log data"
   ]
  },
  {
   "cell_type": "code",
   "execution_count": 68,
   "metadata": {},
   "outputs": [
    {
     "data": {
      "text/plain": [
       "['c:\\\\Users\\\\Muhammad Arham\\\\Desktop\\\\DataEng_Proj\\\\Data Modeling\\\\Modeling_Postgresql\\\\data\\\\log_data\\\\2018\\\\11\\\\2018-11-01-events.json',\n",
       " 'c:\\\\Users\\\\Muhammad Arham\\\\Desktop\\\\DataEng_Proj\\\\Data Modeling\\\\Modeling_Postgresql\\\\data\\\\log_data\\\\2018\\\\11\\\\2018-11-02-events.json',\n",
       " 'c:\\\\Users\\\\Muhammad Arham\\\\Desktop\\\\DataEng_Proj\\\\Data Modeling\\\\Modeling_Postgresql\\\\data\\\\log_data\\\\2018\\\\11\\\\2018-11-03-events.json',\n",
       " 'c:\\\\Users\\\\Muhammad Arham\\\\Desktop\\\\DataEng_Proj\\\\Data Modeling\\\\Modeling_Postgresql\\\\data\\\\log_data\\\\2018\\\\11\\\\2018-11-04-events.json',\n",
       " 'c:\\\\Users\\\\Muhammad Arham\\\\Desktop\\\\DataEng_Proj\\\\Data Modeling\\\\Modeling_Postgresql\\\\data\\\\log_data\\\\2018\\\\11\\\\2018-11-05-events.json',\n",
       " 'c:\\\\Users\\\\Muhammad Arham\\\\Desktop\\\\DataEng_Proj\\\\Data Modeling\\\\Modeling_Postgresql\\\\data\\\\log_data\\\\2018\\\\11\\\\2018-11-06-events.json',\n",
       " 'c:\\\\Users\\\\Muhammad Arham\\\\Desktop\\\\DataEng_Proj\\\\Data Modeling\\\\Modeling_Postgresql\\\\data\\\\log_data\\\\2018\\\\11\\\\2018-11-07-events.json',\n",
       " 'c:\\\\Users\\\\Muhammad Arham\\\\Desktop\\\\DataEng_Proj\\\\Data Modeling\\\\Modeling_Postgresql\\\\data\\\\log_data\\\\2018\\\\11\\\\2018-11-08-events.json',\n",
       " 'c:\\\\Users\\\\Muhammad Arham\\\\Desktop\\\\DataEng_Proj\\\\Data Modeling\\\\Modeling_Postgresql\\\\data\\\\log_data\\\\2018\\\\11\\\\2018-11-09-events.json',\n",
       " 'c:\\\\Users\\\\Muhammad Arham\\\\Desktop\\\\DataEng_Proj\\\\Data Modeling\\\\Modeling_Postgresql\\\\data\\\\log_data\\\\2018\\\\11\\\\2018-11-10-events.json',\n",
       " 'c:\\\\Users\\\\Muhammad Arham\\\\Desktop\\\\DataEng_Proj\\\\Data Modeling\\\\Modeling_Postgresql\\\\data\\\\log_data\\\\2018\\\\11\\\\2018-11-11-events.json',\n",
       " 'c:\\\\Users\\\\Muhammad Arham\\\\Desktop\\\\DataEng_Proj\\\\Data Modeling\\\\Modeling_Postgresql\\\\data\\\\log_data\\\\2018\\\\11\\\\2018-11-12-events.json',\n",
       " 'c:\\\\Users\\\\Muhammad Arham\\\\Desktop\\\\DataEng_Proj\\\\Data Modeling\\\\Modeling_Postgresql\\\\data\\\\log_data\\\\2018\\\\11\\\\2018-11-13-events.json',\n",
       " 'c:\\\\Users\\\\Muhammad Arham\\\\Desktop\\\\DataEng_Proj\\\\Data Modeling\\\\Modeling_Postgresql\\\\data\\\\log_data\\\\2018\\\\11\\\\2018-11-14-events.json',\n",
       " 'c:\\\\Users\\\\Muhammad Arham\\\\Desktop\\\\DataEng_Proj\\\\Data Modeling\\\\Modeling_Postgresql\\\\data\\\\log_data\\\\2018\\\\11\\\\2018-11-15-events.json',\n",
       " 'c:\\\\Users\\\\Muhammad Arham\\\\Desktop\\\\DataEng_Proj\\\\Data Modeling\\\\Modeling_Postgresql\\\\data\\\\log_data\\\\2018\\\\11\\\\2018-11-16-events.json',\n",
       " 'c:\\\\Users\\\\Muhammad Arham\\\\Desktop\\\\DataEng_Proj\\\\Data Modeling\\\\Modeling_Postgresql\\\\data\\\\log_data\\\\2018\\\\11\\\\2018-11-17-events.json',\n",
       " 'c:\\\\Users\\\\Muhammad Arham\\\\Desktop\\\\DataEng_Proj\\\\Data Modeling\\\\Modeling_Postgresql\\\\data\\\\log_data\\\\2018\\\\11\\\\2018-11-18-events.json',\n",
       " 'c:\\\\Users\\\\Muhammad Arham\\\\Desktop\\\\DataEng_Proj\\\\Data Modeling\\\\Modeling_Postgresql\\\\data\\\\log_data\\\\2018\\\\11\\\\2018-11-19-events.json',\n",
       " 'c:\\\\Users\\\\Muhammad Arham\\\\Desktop\\\\DataEng_Proj\\\\Data Modeling\\\\Modeling_Postgresql\\\\data\\\\log_data\\\\2018\\\\11\\\\2018-11-20-events.json',\n",
       " 'c:\\\\Users\\\\Muhammad Arham\\\\Desktop\\\\DataEng_Proj\\\\Data Modeling\\\\Modeling_Postgresql\\\\data\\\\log_data\\\\2018\\\\11\\\\2018-11-21-events.json',\n",
       " 'c:\\\\Users\\\\Muhammad Arham\\\\Desktop\\\\DataEng_Proj\\\\Data Modeling\\\\Modeling_Postgresql\\\\data\\\\log_data\\\\2018\\\\11\\\\2018-11-22-events.json',\n",
       " 'c:\\\\Users\\\\Muhammad Arham\\\\Desktop\\\\DataEng_Proj\\\\Data Modeling\\\\Modeling_Postgresql\\\\data\\\\log_data\\\\2018\\\\11\\\\2018-11-23-events.json',\n",
       " 'c:\\\\Users\\\\Muhammad Arham\\\\Desktop\\\\DataEng_Proj\\\\Data Modeling\\\\Modeling_Postgresql\\\\data\\\\log_data\\\\2018\\\\11\\\\2018-11-24-events.json',\n",
       " 'c:\\\\Users\\\\Muhammad Arham\\\\Desktop\\\\DataEng_Proj\\\\Data Modeling\\\\Modeling_Postgresql\\\\data\\\\log_data\\\\2018\\\\11\\\\2018-11-25-events.json',\n",
       " 'c:\\\\Users\\\\Muhammad Arham\\\\Desktop\\\\DataEng_Proj\\\\Data Modeling\\\\Modeling_Postgresql\\\\data\\\\log_data\\\\2018\\\\11\\\\2018-11-26-events.json',\n",
       " 'c:\\\\Users\\\\Muhammad Arham\\\\Desktop\\\\DataEng_Proj\\\\Data Modeling\\\\Modeling_Postgresql\\\\data\\\\log_data\\\\2018\\\\11\\\\2018-11-27-events.json',\n",
       " 'c:\\\\Users\\\\Muhammad Arham\\\\Desktop\\\\DataEng_Proj\\\\Data Modeling\\\\Modeling_Postgresql\\\\data\\\\log_data\\\\2018\\\\11\\\\2018-11-28-events.json',\n",
       " 'c:\\\\Users\\\\Muhammad Arham\\\\Desktop\\\\DataEng_Proj\\\\Data Modeling\\\\Modeling_Postgresql\\\\data\\\\log_data\\\\2018\\\\11\\\\2018-11-29-events.json',\n",
       " 'c:\\\\Users\\\\Muhammad Arham\\\\Desktop\\\\DataEng_Proj\\\\Data Modeling\\\\Modeling_Postgresql\\\\data\\\\log_data\\\\2018\\\\11\\\\2018-11-30-events.json']"
      ]
     },
     "execution_count": 68,
     "metadata": {},
     "output_type": "execute_result"
    }
   ],
   "source": [
    "log_files = get_data_files(\"data\\log_data\")\n",
    "log_files"
   ]
  },
  {
   "cell_type": "code",
   "execution_count": 89,
   "metadata": {},
   "outputs": [],
   "source": [
    "file_path_log = log_files[0]\n"
   ]
  },
  {
   "cell_type": "code",
   "execution_count": 90,
   "metadata": {},
   "outputs": [
    {
     "data": {
      "text/html": [
       "<div>\n",
       "<style scoped>\n",
       "    .dataframe tbody tr th:only-of-type {\n",
       "        vertical-align: middle;\n",
       "    }\n",
       "\n",
       "    .dataframe tbody tr th {\n",
       "        vertical-align: top;\n",
       "    }\n",
       "\n",
       "    .dataframe thead th {\n",
       "        text-align: right;\n",
       "    }\n",
       "</style>\n",
       "<table border=\"1\" class=\"dataframe\">\n",
       "  <thead>\n",
       "    <tr style=\"text-align: right;\">\n",
       "      <th></th>\n",
       "      <th>artist</th>\n",
       "      <th>auth</th>\n",
       "      <th>firstName</th>\n",
       "      <th>gender</th>\n",
       "      <th>itemInSession</th>\n",
       "      <th>lastName</th>\n",
       "      <th>length</th>\n",
       "      <th>level</th>\n",
       "      <th>location</th>\n",
       "      <th>method</th>\n",
       "      <th>page</th>\n",
       "      <th>registration</th>\n",
       "      <th>sessionId</th>\n",
       "      <th>song</th>\n",
       "      <th>status</th>\n",
       "      <th>ts</th>\n",
       "      <th>userAgent</th>\n",
       "      <th>userId</th>\n",
       "    </tr>\n",
       "  </thead>\n",
       "  <tbody>\n",
       "    <tr>\n",
       "      <th>0</th>\n",
       "      <td>None</td>\n",
       "      <td>Logged In</td>\n",
       "      <td>Walter</td>\n",
       "      <td>M</td>\n",
       "      <td>0</td>\n",
       "      <td>Frye</td>\n",
       "      <td>NaN</td>\n",
       "      <td>free</td>\n",
       "      <td>San Francisco-Oakland-Hayward, CA</td>\n",
       "      <td>GET</td>\n",
       "      <td>Home</td>\n",
       "      <td>1540919166796</td>\n",
       "      <td>38</td>\n",
       "      <td>None</td>\n",
       "      <td>200</td>\n",
       "      <td>1541105830796</td>\n",
       "      <td>\"Mozilla/5.0 (Macintosh; Intel Mac OS X 10_9_4...</td>\n",
       "      <td>39</td>\n",
       "    </tr>\n",
       "    <tr>\n",
       "      <th>1</th>\n",
       "      <td>None</td>\n",
       "      <td>Logged In</td>\n",
       "      <td>Kaylee</td>\n",
       "      <td>F</td>\n",
       "      <td>0</td>\n",
       "      <td>Summers</td>\n",
       "      <td>NaN</td>\n",
       "      <td>free</td>\n",
       "      <td>Phoenix-Mesa-Scottsdale, AZ</td>\n",
       "      <td>GET</td>\n",
       "      <td>Home</td>\n",
       "      <td>1540344794796</td>\n",
       "      <td>139</td>\n",
       "      <td>None</td>\n",
       "      <td>200</td>\n",
       "      <td>1541106106796</td>\n",
       "      <td>\"Mozilla/5.0 (Windows NT 6.1; WOW64) AppleWebK...</td>\n",
       "      <td>8</td>\n",
       "    </tr>\n",
       "    <tr>\n",
       "      <th>2</th>\n",
       "      <td>Des'ree</td>\n",
       "      <td>Logged In</td>\n",
       "      <td>Kaylee</td>\n",
       "      <td>F</td>\n",
       "      <td>1</td>\n",
       "      <td>Summers</td>\n",
       "      <td>246.30812</td>\n",
       "      <td>free</td>\n",
       "      <td>Phoenix-Mesa-Scottsdale, AZ</td>\n",
       "      <td>PUT</td>\n",
       "      <td>NextSong</td>\n",
       "      <td>1540344794796</td>\n",
       "      <td>139</td>\n",
       "      <td>You Gotta Be</td>\n",
       "      <td>200</td>\n",
       "      <td>1541106106796</td>\n",
       "      <td>\"Mozilla/5.0 (Windows NT 6.1; WOW64) AppleWebK...</td>\n",
       "      <td>8</td>\n",
       "    </tr>\n",
       "    <tr>\n",
       "      <th>3</th>\n",
       "      <td>None</td>\n",
       "      <td>Logged In</td>\n",
       "      <td>Kaylee</td>\n",
       "      <td>F</td>\n",
       "      <td>2</td>\n",
       "      <td>Summers</td>\n",
       "      <td>NaN</td>\n",
       "      <td>free</td>\n",
       "      <td>Phoenix-Mesa-Scottsdale, AZ</td>\n",
       "      <td>GET</td>\n",
       "      <td>Upgrade</td>\n",
       "      <td>1540344794796</td>\n",
       "      <td>139</td>\n",
       "      <td>None</td>\n",
       "      <td>200</td>\n",
       "      <td>1541106132796</td>\n",
       "      <td>\"Mozilla/5.0 (Windows NT 6.1; WOW64) AppleWebK...</td>\n",
       "      <td>8</td>\n",
       "    </tr>\n",
       "    <tr>\n",
       "      <th>4</th>\n",
       "      <td>Mr Oizo</td>\n",
       "      <td>Logged In</td>\n",
       "      <td>Kaylee</td>\n",
       "      <td>F</td>\n",
       "      <td>3</td>\n",
       "      <td>Summers</td>\n",
       "      <td>144.03873</td>\n",
       "      <td>free</td>\n",
       "      <td>Phoenix-Mesa-Scottsdale, AZ</td>\n",
       "      <td>PUT</td>\n",
       "      <td>NextSong</td>\n",
       "      <td>1540344794796</td>\n",
       "      <td>139</td>\n",
       "      <td>Flat 55</td>\n",
       "      <td>200</td>\n",
       "      <td>1541106352796</td>\n",
       "      <td>\"Mozilla/5.0 (Windows NT 6.1; WOW64) AppleWebK...</td>\n",
       "      <td>8</td>\n",
       "    </tr>\n",
       "  </tbody>\n",
       "</table>\n",
       "</div>"
      ],
      "text/plain": [
       "    artist       auth firstName gender  itemInSession lastName     length  \\\n",
       "0     None  Logged In    Walter      M              0     Frye        NaN   \n",
       "1     None  Logged In    Kaylee      F              0  Summers        NaN   \n",
       "2  Des'ree  Logged In    Kaylee      F              1  Summers  246.30812   \n",
       "3     None  Logged In    Kaylee      F              2  Summers        NaN   \n",
       "4  Mr Oizo  Logged In    Kaylee      F              3  Summers  144.03873   \n",
       "\n",
       "  level                           location method      page   registration  \\\n",
       "0  free  San Francisco-Oakland-Hayward, CA    GET      Home  1540919166796   \n",
       "1  free        Phoenix-Mesa-Scottsdale, AZ    GET      Home  1540344794796   \n",
       "2  free        Phoenix-Mesa-Scottsdale, AZ    PUT  NextSong  1540344794796   \n",
       "3  free        Phoenix-Mesa-Scottsdale, AZ    GET   Upgrade  1540344794796   \n",
       "4  free        Phoenix-Mesa-Scottsdale, AZ    PUT  NextSong  1540344794796   \n",
       "\n",
       "   sessionId          song  status             ts  \\\n",
       "0         38          None     200  1541105830796   \n",
       "1        139          None     200  1541106106796   \n",
       "2        139  You Gotta Be     200  1541106106796   \n",
       "3        139          None     200  1541106132796   \n",
       "4        139       Flat 55     200  1541106352796   \n",
       "\n",
       "                                           userAgent  userId  \n",
       "0  \"Mozilla/5.0 (Macintosh; Intel Mac OS X 10_9_4...      39  \n",
       "1  \"Mozilla/5.0 (Windows NT 6.1; WOW64) AppleWebK...       8  \n",
       "2  \"Mozilla/5.0 (Windows NT 6.1; WOW64) AppleWebK...       8  \n",
       "3  \"Mozilla/5.0 (Windows NT 6.1; WOW64) AppleWebK...       8  \n",
       "4  \"Mozilla/5.0 (Windows NT 6.1; WOW64) AppleWebK...       8  "
      ]
     },
     "execution_count": 90,
     "metadata": {},
     "output_type": "execute_result"
    }
   ],
   "source": [
    "df_log = pd.read_json(file_path_log, lines= True)\n",
    "df_log.head()"
   ]
  },
  {
   "cell_type": "markdown",
   "metadata": {},
   "source": [
    "User data\n"
   ]
  },
  {
   "cell_type": "code",
   "execution_count": 116,
   "metadata": {},
   "outputs": [
    {
     "data": {
      "text/plain": [
       "[[39,\n",
       "  '\"Mozilla/5.0 (Macintosh; Intel Mac OS X 10_9_4) AppleWebKit/537.36 (KHTML, like Gecko) Chrome/36.0.1985.143 Safari/537.36\"',\n",
       "  'Walter',\n",
       "  'Frye',\n",
       "  'M',\n",
       "  'free'],\n",
       " [8,\n",
       "  '\"Mozilla/5.0 (Windows NT 6.1; WOW64) AppleWebKit/537.36 (KHTML, like Gecko) Chrome/35.0.1916.153 Safari/537.36\"',\n",
       "  'Kaylee',\n",
       "  'Summers',\n",
       "  'F',\n",
       "  'free']]"
      ]
     },
     "execution_count": 116,
     "metadata": {},
     "output_type": "execute_result"
    }
   ],
   "source": [
    "user_data = df_log[['userId','userAgent','firstName','lastName', 'gender', 'level']].values.tolist()\n",
    "user_data[:2]"
   ]
  },
  {
   "cell_type": "markdown",
   "metadata": {},
   "source": [
    "Timestamp"
   ]
  },
  {
   "cell_type": "code",
   "execution_count": 120,
   "metadata": {},
   "outputs": [
    {
     "data": {
      "text/plain": [
       "0   2018-11-01 20:57:10.796\n",
       "1   2018-11-01 21:01:46.796\n",
       "2   2018-11-01 21:01:46.796\n",
       "3   2018-11-01 21:02:12.796\n",
       "4   2018-11-01 21:05:52.796\n",
       "Name: ts, dtype: datetime64[ns]"
      ]
     },
     "execution_count": 120,
     "metadata": {},
     "output_type": "execute_result"
    }
   ],
   "source": [
    "time_stamp = pd.to_datetime(df_log[\"ts\"], unit='ms')\n",
    "time_stamp.head()"
   ]
  },
  {
   "cell_type": "code",
   "execution_count": 121,
   "metadata": {},
   "outputs": [
    {
     "name": "stderr",
     "output_type": "stream",
     "text": [
      "C:\\Users\\Muhammad Arham\\AppData\\Local\\Temp\\ipykernel_12532\\2567860215.py:1: FutureWarning: Series.dt.weekofyear and Series.dt.week have been deprecated. Please use Series.dt.isocalendar().week instead.\n",
      "  time_data = (time_stamp, time_stamp.dt.hour, time_stamp.dt.day, time_stamp.dt.week, time_stamp.dt.month, time_stamp.dt.year, time_stamp.dt.weekday)\n"
     ]
    },
    {
     "data": {
      "text/html": [
       "<div>\n",
       "<style scoped>\n",
       "    .dataframe tbody tr th:only-of-type {\n",
       "        vertical-align: middle;\n",
       "    }\n",
       "\n",
       "    .dataframe tbody tr th {\n",
       "        vertical-align: top;\n",
       "    }\n",
       "\n",
       "    .dataframe thead th {\n",
       "        text-align: right;\n",
       "    }\n",
       "</style>\n",
       "<table border=\"1\" class=\"dataframe\">\n",
       "  <thead>\n",
       "    <tr style=\"text-align: right;\">\n",
       "      <th></th>\n",
       "      <th>start_time</th>\n",
       "      <th>hour</th>\n",
       "      <th>day</th>\n",
       "      <th>week</th>\n",
       "      <th>month</th>\n",
       "      <th>year</th>\n",
       "      <th>weekday</th>\n",
       "    </tr>\n",
       "  </thead>\n",
       "  <tbody>\n",
       "    <tr>\n",
       "      <th>0</th>\n",
       "      <td>2018-11-01 20:57:10.796</td>\n",
       "      <td>20</td>\n",
       "      <td>1</td>\n",
       "      <td>44</td>\n",
       "      <td>11</td>\n",
       "      <td>2018</td>\n",
       "      <td>3</td>\n",
       "    </tr>\n",
       "    <tr>\n",
       "      <th>1</th>\n",
       "      <td>2018-11-01 21:01:46.796</td>\n",
       "      <td>21</td>\n",
       "      <td>1</td>\n",
       "      <td>44</td>\n",
       "      <td>11</td>\n",
       "      <td>2018</td>\n",
       "      <td>3</td>\n",
       "    </tr>\n",
       "    <tr>\n",
       "      <th>2</th>\n",
       "      <td>2018-11-01 21:01:46.796</td>\n",
       "      <td>21</td>\n",
       "      <td>1</td>\n",
       "      <td>44</td>\n",
       "      <td>11</td>\n",
       "      <td>2018</td>\n",
       "      <td>3</td>\n",
       "    </tr>\n",
       "    <tr>\n",
       "      <th>3</th>\n",
       "      <td>2018-11-01 21:02:12.796</td>\n",
       "      <td>21</td>\n",
       "      <td>1</td>\n",
       "      <td>44</td>\n",
       "      <td>11</td>\n",
       "      <td>2018</td>\n",
       "      <td>3</td>\n",
       "    </tr>\n",
       "    <tr>\n",
       "      <th>4</th>\n",
       "      <td>2018-11-01 21:05:52.796</td>\n",
       "      <td>21</td>\n",
       "      <td>1</td>\n",
       "      <td>44</td>\n",
       "      <td>11</td>\n",
       "      <td>2018</td>\n",
       "      <td>3</td>\n",
       "    </tr>\n",
       "  </tbody>\n",
       "</table>\n",
       "</div>"
      ],
      "text/plain": [
       "               start_time  hour  day  week  month  year  weekday\n",
       "0 2018-11-01 20:57:10.796    20    1    44     11  2018        3\n",
       "1 2018-11-01 21:01:46.796    21    1    44     11  2018        3\n",
       "2 2018-11-01 21:01:46.796    21    1    44     11  2018        3\n",
       "3 2018-11-01 21:02:12.796    21    1    44     11  2018        3\n",
       "4 2018-11-01 21:05:52.796    21    1    44     11  2018        3"
      ]
     },
     "execution_count": 121,
     "metadata": {},
     "output_type": "execute_result"
    }
   ],
   "source": [
    "time_data = (time_stamp, time_stamp.dt.hour, time_stamp.dt.day, time_stamp.dt.week, time_stamp.dt.month, time_stamp.dt.year, time_stamp.dt.weekday)\n",
    "column_labels = ('start_time', 'hour', 'day', 'week', 'month', 'year', 'weekday')\n",
    "time_df = pd.DataFrame.from_dict(dict(zip(column_labels, time_data)))\n",
    "time_df.head()"
   ]
  },
  {
   "cell_type": "code",
   "execution_count": null,
   "metadata": {},
   "outputs": [],
   "source": []
  }
 ],
 "metadata": {
  "kernelspec": {
   "display_name": "Python 3",
   "language": "python",
   "name": "python3"
  },
  "language_info": {
   "codemirror_mode": {
    "name": "ipython",
    "version": 3
   },
   "file_extension": ".py",
   "mimetype": "text/x-python",
   "name": "python",
   "nbconvert_exporter": "python",
   "pygments_lexer": "ipython3",
   "version": "3.10.0"
  }
 },
 "nbformat": 4,
 "nbformat_minor": 2
}
